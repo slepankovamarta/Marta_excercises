{
 "cells": [
  {
   "cell_type": "code",
   "execution_count": 25,
   "id": "727a97f9-9d1a-4aa3-acba-b43f0e9b8920",
   "metadata": {
    "tags": []
   },
   "outputs": [],
   "source": [
    "import pandas as pd"
   ]
  },
  {
   "cell_type": "code",
   "execution_count": 26,
   "id": "d6c15fff-cba0-4e2e-8ab5-2246089c285c",
   "metadata": {
    "tags": []
   },
   "outputs": [],
   "source": [
    "books = pd.read_csv(\"C:\\\\Users\\\\MARTA\\\\Desktop\\\\git david\\\\Books.csv\", low_memory=False)\n",
    "ratings = pd.read_csv(\"C:\\\\Users\\\\MARTA\\\\Desktop\\\\git david\\\\Ratings.csv\")\n",
    "# books.head()\n",
    "# books.info()\n",
    "# books[\"Book-Title\"].value_counts()\n",
    "# podívala jsem se jak data vypadají ..head, info, jestli jsou knihy vícekrát nebo vždy jen jednou atd.\n",
    "\n",
    "\n",
    "# odtrsním nepotřebné sloupce - neznám jednotlivá nakladatelství, tak je samozřejmě možné, že jsou některé známé tím, \n",
    "# že tisknou jen TOP scify a fantasy - ale teď to nebudeme brát v potaz \n",
    "books.head(2)\n",
    "new_books = books.drop(columns = [\"Image-URL-S\",\"Publisher\", \"Image-URL-M\", \"Image-URL-L\"])\n"
   ]
  },
  {
   "cell_type": "code",
   "execution_count": null,
   "id": "b87be653-314b-499a-9fe3-593a3164ef96",
   "metadata": {
    "tags": []
   },
   "outputs": [],
   "source": []
  },
  {
   "cell_type": "code",
   "execution_count": 3,
   "id": "60762979-56cc-42bf-8c50-9b986e51788e",
   "metadata": {
    "tags": []
   },
   "outputs": [
    {
     "name": "stdout",
     "output_type": "stream",
     "text": [
      "Empty DataFrame\n",
      "Columns: [ISBN, Book-Title, Book-Author, Year-Of-Publication]\n",
      "Index: []\n"
     ]
    }
   ],
   "source": [
    "book_search = new_books[new_books[\"Book-Title\"] == \"Lord of the Rings\"]\n",
    "print(book_search)\n",
    "\n",
    "# nejdříve se chci podívat, zda je Lord v databázi vůbec"
   ]
  },
  {
   "cell_type": "code",
   "execution_count": 4,
   "id": "e0bed89c-e2b2-4cd2-bff9-9b7471ae29ad",
   "metadata": {
    "tags": []
   },
   "outputs": [
    {
     "name": "stdout",
     "output_type": "stream",
     "text": [
      "Empty DataFrame\n",
      "Columns: [ISBN, Book-Title, Book-Author, Year-Of-Publication]\n",
      "Index: []\n"
     ]
    }
   ],
   "source": [
    "# nenalezeno, zkusím malým l\n",
    "book_search = new_books[new_books[\"Book-Title\"].str.lower() == \"lord\".lower()]\n",
    "print(book_search)"
   ]
  },
  {
   "cell_type": "code",
   "execution_count": 5,
   "id": "463ee947-71ea-4e73-b410-87a4761824e9",
   "metadata": {
    "tags": []
   },
   "outputs": [
    {
     "name": "stdout",
     "output_type": "stream",
     "text": [
      "793\n"
     ]
    }
   ],
   "source": [
    "print(new_books[\"Book-Title\"].str.contains(\"lord\", case=False, na=False).sum())"
   ]
  },
  {
   "cell_type": "code",
   "execution_count": 6,
   "id": "bba9bd40-71cb-41ca-9f12-e30d1fbeb7c7",
   "metadata": {
    "tags": []
   },
   "outputs": [
    {
     "name": "stdout",
     "output_type": "stream",
     "text": [
      "203\n"
     ]
    }
   ],
   "source": [
    "print(new_books[\"Book-Title\"].str.contains(\"lord of the\", case=False, na=False).sum())"
   ]
  },
  {
   "cell_type": "code",
   "execution_count": 7,
   "id": "5a56a4ac-8c38-403f-9c07-c7b060485caf",
   "metadata": {
    "tags": []
   },
   "outputs": [
    {
     "name": "stdout",
     "output_type": "stream",
     "text": [
      "120\n"
     ]
    }
   ],
   "source": [
    "print(new_books[\"Book-Title\"].str.contains(\"lord of the rings\", case=False, na=False).sum())\n",
    "# tak 120 záznamů s lord of the rings někde"
   ]
  },
  {
   "cell_type": "code",
   "execution_count": 8,
   "id": "f31efd88-ade0-4fcb-aa75-4068f2efad87",
   "metadata": {
    "tags": []
   },
   "outputs": [
    {
     "name": "stdout",
     "output_type": "stream",
     "text": [
      "                                               Book-Title       Book-Author  \\\n",
      "91      El Senor De Los Anillos: LA Comunidad Del Anil...  J. R. R. Tolkien   \n",
      "92      El Senor De Los Anillos: Las DOS Torres (Lord ...  J. R. R. Tolkien   \n",
      "93      El Senor De Los Anillos: El Retorno Del Rey (T...  J. R. R. Tolkien   \n",
      "780        The Two Towers (The Lord of the Rings, Part 2)    J.R.R. TOLKIEN   \n",
      "1571    The Fellowship of the Ring (The Lord of the Ri...    J.R.R. TOLKIEN   \n",
      "...                                                   ...               ...   \n",
      "266269  The Fellowship of the Ring (The Lord of the Ri...  J. R. R. Tolkien   \n",
      "266270     The Two Towers (The Lord of the Rings, Book 2)  J. R. R. Tolkien   \n",
      "266271  The Return of the King (The Lord of the Rings,...  J. R. R. Tolkien   \n",
      "270230                              The Lord of the Rings  J. R. R. Tolkien   \n",
      "271169     The Two Towers (The Lord of the Rings, Part 2)  J. R. R. Tolkien   \n",
      "\n",
      "       Year-Of-Publication  \n",
      "91                    2001  \n",
      "92                    2001  \n",
      "93                    2001  \n",
      "780                   1986  \n",
      "1571                  1986  \n",
      "...                    ...  \n",
      "266269                2001  \n",
      "266270                2001  \n",
      "266271                2001  \n",
      "270230                2003  \n",
      "271169                1992  \n",
      "\n",
      "[120 rows x 3 columns]\n"
     ]
    }
   ],
   "source": [
    "LORD_books = new_books[new_books[\"Book-Title\"].str.contains(\"lord of the rings\", case=False, na=False)]\n",
    "print(LORD_books[[\"Book-Title\", \"Book-Author\", \"Year-Of-Publication\"]])\n",
    "\n"
   ]
  },
  {
   "cell_type": "code",
   "execution_count": 9,
   "id": "20c3052c-663b-4c26-a18c-417866aafa19",
   "metadata": {
    "tags": []
   },
   "outputs": [],
   "source": [
    "# takové budou asi v celém seznamu, velké malé pismenka u autora, různé verze AJ vs španělština atd... ale ten Lord of the Ring si upravíme na benchmark - do angličtiny\n",
    "# ať tam nemáme duplikáty atd...\n"
   ]
  },
  {
   "cell_type": "code",
   "execution_count": 10,
   "id": "415d1ef2-b9e3-4874-8dac-3aa1559b9d98",
   "metadata": {
    "tags": []
   },
   "outputs": [
    {
     "data": {
      "text/html": [
       "<div>\n",
       "<style scoped>\n",
       "    .dataframe tbody tr th:only-of-type {\n",
       "        vertical-align: middle;\n",
       "    }\n",
       "\n",
       "    .dataframe tbody tr th {\n",
       "        vertical-align: top;\n",
       "    }\n",
       "\n",
       "    .dataframe thead th {\n",
       "        text-align: right;\n",
       "    }\n",
       "</style>\n",
       "<table border=\"1\" class=\"dataframe\">\n",
       "  <thead>\n",
       "    <tr style=\"text-align: right;\">\n",
       "      <th></th>\n",
       "      <th>ISBN</th>\n",
       "      <th>Book-Title</th>\n",
       "      <th>Book-Author</th>\n",
       "      <th>Year-Of-Publication</th>\n",
       "    </tr>\n",
       "  </thead>\n",
       "  <tbody>\n",
       "    <tr>\n",
       "      <th>0</th>\n",
       "      <td>0195153448</td>\n",
       "      <td>Classical Mythology</td>\n",
       "      <td>Mark P. O. Morford</td>\n",
       "      <td>2002</td>\n",
       "    </tr>\n",
       "    <tr>\n",
       "      <th>1</th>\n",
       "      <td>0002005018</td>\n",
       "      <td>Clara Callan</td>\n",
       "      <td>Richard Bruce Wright</td>\n",
       "      <td>2001</td>\n",
       "    </tr>\n",
       "    <tr>\n",
       "      <th>2</th>\n",
       "      <td>0060973129</td>\n",
       "      <td>Decision In Normandy</td>\n",
       "      <td>Carlo D'Este</td>\n",
       "      <td>1991</td>\n",
       "    </tr>\n",
       "    <tr>\n",
       "      <th>3</th>\n",
       "      <td>0374157065</td>\n",
       "      <td>Flu: The Story Of The Great Influenza Pandemic...</td>\n",
       "      <td>Gina Bari Kolata</td>\n",
       "      <td>1999</td>\n",
       "    </tr>\n",
       "    <tr>\n",
       "      <th>4</th>\n",
       "      <td>0393045218</td>\n",
       "      <td>The Mummies Of Urumchi</td>\n",
       "      <td>E. J. W. Barber</td>\n",
       "      <td>1999</td>\n",
       "    </tr>\n",
       "    <tr>\n",
       "      <th>5</th>\n",
       "      <td>0399135782</td>\n",
       "      <td>The Kitchen God'S Wife</td>\n",
       "      <td>Amy Tan</td>\n",
       "      <td>1991</td>\n",
       "    </tr>\n",
       "    <tr>\n",
       "      <th>6</th>\n",
       "      <td>0425176428</td>\n",
       "      <td>What If?: The World'S Foremost Military Histor...</td>\n",
       "      <td>Robert Cowley</td>\n",
       "      <td>2000</td>\n",
       "    </tr>\n",
       "    <tr>\n",
       "      <th>7</th>\n",
       "      <td>0671870432</td>\n",
       "      <td>Pleading Guilty</td>\n",
       "      <td>Scott Turow</td>\n",
       "      <td>1993</td>\n",
       "    </tr>\n",
       "    <tr>\n",
       "      <th>8</th>\n",
       "      <td>0679425608</td>\n",
       "      <td>Under The Black Flag: The Romance And The Real...</td>\n",
       "      <td>David Cordingly</td>\n",
       "      <td>1996</td>\n",
       "    </tr>\n",
       "    <tr>\n",
       "      <th>9</th>\n",
       "      <td>074322678X</td>\n",
       "      <td>Where You'Ll Find Me: And Other Stories</td>\n",
       "      <td>Ann Beattie</td>\n",
       "      <td>2002</td>\n",
       "    </tr>\n",
       "    <tr>\n",
       "      <th>10</th>\n",
       "      <td>0771074670</td>\n",
       "      <td>Nights Below Station Street</td>\n",
       "      <td>David Adams Richards</td>\n",
       "      <td>1988</td>\n",
       "    </tr>\n",
       "    <tr>\n",
       "      <th>11</th>\n",
       "      <td>080652121X</td>\n",
       "      <td>Hitler'S Secret Bankers: The Myth Of Swiss Neu...</td>\n",
       "      <td>Adam Lebor</td>\n",
       "      <td>2000</td>\n",
       "    </tr>\n",
       "    <tr>\n",
       "      <th>12</th>\n",
       "      <td>0887841740</td>\n",
       "      <td>The Middle Stories</td>\n",
       "      <td>Sheila Heti</td>\n",
       "      <td>2004</td>\n",
       "    </tr>\n",
       "    <tr>\n",
       "      <th>13</th>\n",
       "      <td>1552041778</td>\n",
       "      <td>Jane Doe</td>\n",
       "      <td>R. J. Kaiser</td>\n",
       "      <td>1999</td>\n",
       "    </tr>\n",
       "    <tr>\n",
       "      <th>14</th>\n",
       "      <td>1558746218</td>\n",
       "      <td>A Second Chicken Soup For The Woman'S Soul (Ch...</td>\n",
       "      <td>Jack Canfield</td>\n",
       "      <td>1998</td>\n",
       "    </tr>\n",
       "    <tr>\n",
       "      <th>15</th>\n",
       "      <td>1567407781</td>\n",
       "      <td>The Witchfinder (Amos Walker Mystery Series)</td>\n",
       "      <td>Loren D. Estleman</td>\n",
       "      <td>1998</td>\n",
       "    </tr>\n",
       "    <tr>\n",
       "      <th>16</th>\n",
       "      <td>1575663937</td>\n",
       "      <td>More Cunning Than Man: A Social History Of Rat...</td>\n",
       "      <td>Robert Hendrickson</td>\n",
       "      <td>1999</td>\n",
       "    </tr>\n",
       "    <tr>\n",
       "      <th>17</th>\n",
       "      <td>1881320189</td>\n",
       "      <td>Goodbye To The Buttermilk Sky</td>\n",
       "      <td>Julia Oliver</td>\n",
       "      <td>1994</td>\n",
       "    </tr>\n",
       "    <tr>\n",
       "      <th>18</th>\n",
       "      <td>0440234743</td>\n",
       "      <td>The Testament</td>\n",
       "      <td>John Grisham</td>\n",
       "      <td>1999</td>\n",
       "    </tr>\n",
       "    <tr>\n",
       "      <th>19</th>\n",
       "      <td>0452264464</td>\n",
       "      <td>Beloved (Plume Contemporary Fiction)</td>\n",
       "      <td>Toni Morrison</td>\n",
       "      <td>1994</td>\n",
       "    </tr>\n",
       "  </tbody>\n",
       "</table>\n",
       "</div>"
      ],
      "text/plain": [
       "          ISBN                                         Book-Title  \\\n",
       "0   0195153448                                Classical Mythology   \n",
       "1   0002005018                                       Clara Callan   \n",
       "2   0060973129                               Decision In Normandy   \n",
       "3   0374157065  Flu: The Story Of The Great Influenza Pandemic...   \n",
       "4   0393045218                             The Mummies Of Urumchi   \n",
       "5   0399135782                             The Kitchen God'S Wife   \n",
       "6   0425176428  What If?: The World'S Foremost Military Histor...   \n",
       "7   0671870432                                    Pleading Guilty   \n",
       "8   0679425608  Under The Black Flag: The Romance And The Real...   \n",
       "9   074322678X            Where You'Ll Find Me: And Other Stories   \n",
       "10  0771074670                        Nights Below Station Street   \n",
       "11  080652121X  Hitler'S Secret Bankers: The Myth Of Swiss Neu...   \n",
       "12  0887841740                                 The Middle Stories   \n",
       "13  1552041778                                           Jane Doe   \n",
       "14  1558746218  A Second Chicken Soup For The Woman'S Soul (Ch...   \n",
       "15  1567407781       The Witchfinder (Amos Walker Mystery Series)   \n",
       "16  1575663937  More Cunning Than Man: A Social History Of Rat...   \n",
       "17  1881320189                      Goodbye To The Buttermilk Sky   \n",
       "18  0440234743                                      The Testament   \n",
       "19  0452264464               Beloved (Plume Contemporary Fiction)   \n",
       "\n",
       "             Book-Author Year-Of-Publication  \n",
       "0     Mark P. O. Morford                2002  \n",
       "1   Richard Bruce Wright                2001  \n",
       "2           Carlo D'Este                1991  \n",
       "3       Gina Bari Kolata                1999  \n",
       "4        E. J. W. Barber                1999  \n",
       "5                Amy Tan                1991  \n",
       "6          Robert Cowley                2000  \n",
       "7            Scott Turow                1993  \n",
       "8        David Cordingly                1996  \n",
       "9            Ann Beattie                2002  \n",
       "10  David Adams Richards                1988  \n",
       "11            Adam Lebor                2000  \n",
       "12           Sheila Heti                2004  \n",
       "13          R. J. Kaiser                1999  \n",
       "14         Jack Canfield                1998  \n",
       "15     Loren D. Estleman                1998  \n",
       "16    Robert Hendrickson                1999  \n",
       "17          Julia Oliver                1994  \n",
       "18          John Grisham                1999  \n",
       "19         Toni Morrison                1994  "
      ]
     },
     "execution_count": 10,
     "metadata": {},
     "output_type": "execute_result"
    }
   ],
   "source": [
    "# ňejdíve si odstraníme velké písmenka v autorech - protože mě to irituje :)\n",
    "new_books[\"Book-Author\"] = new_books[\"Book-Author\"].str.title()\n",
    "new_books[\"Book-Title\"] = new_books[\"Book-Title\"].str.title()\n",
    "new_books.head(20)\n"
   ]
  },
  {
   "cell_type": "code",
   "execution_count": null,
   "id": "99ce46dd-3812-42c2-a897-3b7fe06e7b90",
   "metadata": {
    "tags": []
   },
   "outputs": [],
   "source": []
  },
  {
   "cell_type": "code",
   "execution_count": 11,
   "id": "80dda380-8ffb-4e42-86ee-32fcc6ca994a",
   "metadata": {
    "tags": []
   },
   "outputs": [
    {
     "data": {
      "text/html": [
       "<div>\n",
       "<style scoped>\n",
       "    .dataframe tbody tr th:only-of-type {\n",
       "        vertical-align: middle;\n",
       "    }\n",
       "\n",
       "    .dataframe tbody tr th {\n",
       "        vertical-align: top;\n",
       "    }\n",
       "\n",
       "    .dataframe thead th {\n",
       "        text-align: right;\n",
       "    }\n",
       "</style>\n",
       "<table border=\"1\" class=\"dataframe\">\n",
       "  <thead>\n",
       "    <tr style=\"text-align: right;\">\n",
       "      <th></th>\n",
       "      <th>ISBN</th>\n",
       "      <th>Book-Title</th>\n",
       "      <th>Book-Author</th>\n",
       "      <th>Year-Of-Publication</th>\n",
       "      <th>User-ID</th>\n",
       "      <th>Book-Rating</th>\n",
       "    </tr>\n",
       "  </thead>\n",
       "  <tbody>\n",
       "    <tr>\n",
       "      <th>0</th>\n",
       "      <td>0195153448</td>\n",
       "      <td>Classical Mythology</td>\n",
       "      <td>Mark P. O. Morford</td>\n",
       "      <td>2002</td>\n",
       "      <td>2</td>\n",
       "      <td>0</td>\n",
       "    </tr>\n",
       "    <tr>\n",
       "      <th>1</th>\n",
       "      <td>0002005018</td>\n",
       "      <td>Clara Callan</td>\n",
       "      <td>Richard Bruce Wright</td>\n",
       "      <td>2001</td>\n",
       "      <td>8</td>\n",
       "      <td>5</td>\n",
       "    </tr>\n",
       "    <tr>\n",
       "      <th>2</th>\n",
       "      <td>0002005018</td>\n",
       "      <td>Clara Callan</td>\n",
       "      <td>Richard Bruce Wright</td>\n",
       "      <td>2001</td>\n",
       "      <td>11400</td>\n",
       "      <td>0</td>\n",
       "    </tr>\n",
       "    <tr>\n",
       "      <th>3</th>\n",
       "      <td>0002005018</td>\n",
       "      <td>Clara Callan</td>\n",
       "      <td>Richard Bruce Wright</td>\n",
       "      <td>2001</td>\n",
       "      <td>11676</td>\n",
       "      <td>8</td>\n",
       "    </tr>\n",
       "    <tr>\n",
       "      <th>4</th>\n",
       "      <td>0002005018</td>\n",
       "      <td>Clara Callan</td>\n",
       "      <td>Richard Bruce Wright</td>\n",
       "      <td>2001</td>\n",
       "      <td>41385</td>\n",
       "      <td>0</td>\n",
       "    </tr>\n",
       "  </tbody>\n",
       "</table>\n",
       "</div>"
      ],
      "text/plain": [
       "         ISBN           Book-Title           Book-Author Year-Of-Publication  \\\n",
       "0  0195153448  Classical Mythology    Mark P. O. Morford                2002   \n",
       "1  0002005018         Clara Callan  Richard Bruce Wright                2001   \n",
       "2  0002005018         Clara Callan  Richard Bruce Wright                2001   \n",
       "3  0002005018         Clara Callan  Richard Bruce Wright                2001   \n",
       "4  0002005018         Clara Callan  Richard Bruce Wright                2001   \n",
       "\n",
       "   User-ID  Book-Rating  \n",
       "0        2            0  \n",
       "1        8            5  \n",
       "2    11400            0  \n",
       "3    11676            8  \n",
       "4    41385            0  "
      ]
     },
     "execution_count": 11,
     "metadata": {},
     "output_type": "execute_result"
    }
   ],
   "source": [
    "# ďíky znalosti trilogie, vím jaké díly obsahuje, tady by se jinak muselo pogooglit co vše autor napsal a co je jen jiný závez toho samého, první druhé třetí vydání atd.\n",
    "# ˇale nejdíve si to spojíme s ratings a pak vymažeme ty nízko hodnocené atd. dle validate (odstraní duplikáty)\n",
    "\n",
    "books_plus_ratings = pd.merge(new_books, ratings, on=\"ISBN\")\n",
    "books_plus_ratings.head(5)\n",
    "\n",
    "\n",
    "\n"
   ]
  },
  {
   "cell_type": "code",
   "execution_count": 12,
   "id": "1fd6a91e-1ca7-48da-bfa8-889560f8aa75",
   "metadata": {
    "tags": []
   },
   "outputs": [],
   "source": [
    "# ťed ale máme k každé knize XY řádků navíc, protože co řádek to rating.....\n",
    "# tady jsem se zeptala chatu jaký je to command aggregate - kolik hlasovalo, jaké ID hlasovali a hodit tam průměr\n",
    "\n",
    "\n",
    "books_plus_ratings_updated = books_plus_ratings.groupby([\"ISBN\", \"Book-Title\", \"Book-Author\", \"Year-Of-Publication\"]\n",
    ").agg({\"User-ID\": lambda x: list(x),\"Book-Rating\": [\"count\", \"mean\"]}).reset_index()\n"
   ]
  },
  {
   "cell_type": "code",
   "execution_count": 13,
   "id": "72c70f81-1eee-4f35-994c-c97a6954819d",
   "metadata": {
    "tags": []
   },
   "outputs": [],
   "source": [
    "books_plus_ratings_updated.columns = [\n",
    "    \"ISBN\", \"Book-Title\", \"Book-Author\", \"Year-Of-Publication\",\n",
    "    \"User-IDs\", \"Total-Ratings\", \"Average-Rating\"\n",
    "]\n",
    "\n",
    "# ˇmáme nový sloupeček pruměrné hodnocení,dle toho kolik lidí a jak hlasovalo...ted můžeme vymazat duplokáty ze seznamu a ponechat jen ty s nejvyšším průměrným hodnocením"
   ]
  },
  {
   "cell_type": "code",
   "execution_count": 14,
   "id": "95b26ec6-644f-4236-8c41-3c2d91d32a47",
   "metadata": {
    "tags": []
   },
   "outputs": [
    {
     "data": {
      "text/html": [
       "<div>\n",
       "<style scoped>\n",
       "    .dataframe tbody tr th:only-of-type {\n",
       "        vertical-align: middle;\n",
       "    }\n",
       "\n",
       "    .dataframe tbody tr th {\n",
       "        vertical-align: top;\n",
       "    }\n",
       "\n",
       "    .dataframe thead th {\n",
       "        text-align: right;\n",
       "    }\n",
       "</style>\n",
       "<table border=\"1\" class=\"dataframe\">\n",
       "  <thead>\n",
       "    <tr style=\"text-align: right;\">\n",
       "      <th></th>\n",
       "      <th>ISBN</th>\n",
       "      <th>Book-Title</th>\n",
       "      <th>Book-Author</th>\n",
       "      <th>Year-Of-Publication</th>\n",
       "      <th>User-IDs</th>\n",
       "      <th>Total-Ratings</th>\n",
       "      <th>Average-Rating</th>\n",
       "    </tr>\n",
       "  </thead>\n",
       "  <tbody>\n",
       "    <tr>\n",
       "      <th>0</th>\n",
       "      <td>0000913154</td>\n",
       "      <td>The Way Things Work: An Illustrated Encycloped...</td>\n",
       "      <td>C. Van Amerongen (Translator)</td>\n",
       "      <td>1967</td>\n",
       "      <td>[171118]</td>\n",
       "      <td>1</td>\n",
       "      <td>8.0</td>\n",
       "    </tr>\n",
       "    <tr>\n",
       "      <th>1</th>\n",
       "      <td>0001010565</td>\n",
       "      <td>Mog'S Christmas</td>\n",
       "      <td>Judith Kerr</td>\n",
       "      <td>1992</td>\n",
       "      <td>[86123, 209516]</td>\n",
       "      <td>2</td>\n",
       "      <td>0.0</td>\n",
       "    </tr>\n",
       "    <tr>\n",
       "      <th>2</th>\n",
       "      <td>0001046438</td>\n",
       "      <td>Liar</td>\n",
       "      <td>Stephen Fry</td>\n",
       "      <td>0</td>\n",
       "      <td>[23902]</td>\n",
       "      <td>1</td>\n",
       "      <td>9.0</td>\n",
       "    </tr>\n",
       "    <tr>\n",
       "      <th>3</th>\n",
       "      <td>0001046713</td>\n",
       "      <td>Twopence To Cross The Mersey</td>\n",
       "      <td>Helen Forrester</td>\n",
       "      <td>1992</td>\n",
       "      <td>[196149]</td>\n",
       "      <td>1</td>\n",
       "      <td>0.0</td>\n",
       "    </tr>\n",
       "    <tr>\n",
       "      <th>4</th>\n",
       "      <td>000104687X</td>\n",
       "      <td>T.S. Eliot Reading \\The Wasteland\\\" And Other ...</td>\n",
       "      <td>T.S. Eliot</td>\n",
       "      <td>1993</td>\n",
       "      <td>[23902]</td>\n",
       "      <td>1</td>\n",
       "      <td>6.0</td>\n",
       "    </tr>\n",
       "  </tbody>\n",
       "</table>\n",
       "</div>"
      ],
      "text/plain": [
       "         ISBN                                         Book-Title  \\\n",
       "0  0000913154  The Way Things Work: An Illustrated Encycloped...   \n",
       "1  0001010565                                    Mog'S Christmas   \n",
       "2  0001046438                                               Liar   \n",
       "3  0001046713                       Twopence To Cross The Mersey   \n",
       "4  000104687X  T.S. Eliot Reading \\The Wasteland\\\" And Other ...   \n",
       "\n",
       "                     Book-Author Year-Of-Publication         User-IDs  \\\n",
       "0  C. Van Amerongen (Translator)                1967         [171118]   \n",
       "1                    Judith Kerr                1992  [86123, 209516]   \n",
       "2                    Stephen Fry                   0          [23902]   \n",
       "3                Helen Forrester                1992         [196149]   \n",
       "4                     T.S. Eliot                1993          [23902]   \n",
       "\n",
       "   Total-Ratings  Average-Rating  \n",
       "0              1             8.0  \n",
       "1              2             0.0  \n",
       "2              1             9.0  \n",
       "3              1             0.0  \n",
       "4              1             6.0  "
      ]
     },
     "execution_count": 14,
     "metadata": {},
     "output_type": "execute_result"
    }
   ],
   "source": [
    "books_plus_ratings_updated.head()\n",
    "\n",
    "# ťady si porovnávám books_plus_ratings a books_plus_ratings_updated ..zda tam je jen 1X ISBN\n",
    "\n"
   ]
  },
  {
   "cell_type": "code",
   "execution_count": 15,
   "id": "4e5ec436-074b-4efa-a881-b491e862d5ee",
   "metadata": {},
   "outputs": [],
   "source": [
    "# ˇok, takže máme vždy jen 1x ISBN v systému, máme autory a knihy stejným způsobem nějak napsané, víme kolik lidí hlasovalo a průměrné hodnocení..."
   ]
  },
  {
   "cell_type": "code",
   "execution_count": 16,
   "id": "efa7b531-8f94-49ee-8c9a-a103c778b4b9",
   "metadata": {},
   "outputs": [],
   "source": [
    "# ˇuž jsme se dívali předtím, že tam byl ten Tolkien vícekrát ta Lord of the Rings, ted si ukážeme jen ty s nejvíce hodnocením a ponecháme si jen ty 3 knihy"
   ]
  },
  {
   "cell_type": "code",
   "execution_count": 17,
   "id": "34ba5c6d-11eb-48ad-9e0d-7ec22a46ba7d",
   "metadata": {
    "tags": []
   },
   "outputs": [
    {
     "name": "stdout",
     "output_type": "stream",
     "text": [
      "              ISBN                                         Book-Title  \\\n",
      "43238   0345339681  The Hobbit : The Enchanting Prelude To The Lor...   \n",
      "43239   0345339703  The Fellowship Of The Ring (The Lord Of The Ri...   \n",
      "43240   0345339711     The Two Towers (The Lord Of The Rings, Part 2)   \n",
      "43241   0345339738  The Return Of The King (The Lord Of The Rings,...   \n",
      "129842  0618002227  The Fellowship Of The Ring (The Lord Of The Ri...   \n",
      "130024  0618129022            The Lord Of The Rings (Movie Art Cover)   \n",
      "\n",
      "             Book-Author Year-Of-Publication  \\\n",
      "43238     J.R.R. Tolkien                1986   \n",
      "43239     J.R.R. Tolkien                1986   \n",
      "43240     J.R.R. Tolkien                1986   \n",
      "43241     J.R.R. Tolkien                1986   \n",
      "129842  J. R. R. Tolkien                1999   \n",
      "130024    J.R.R. Tolkien                2001   \n",
      "\n",
      "                                                 User-IDs  Total-Ratings  \\\n",
      "43238   [277427, 277744, 277776, 277812, 2746, 3556, 4...            281   \n",
      "43239   [278550, 1167, 1903, 3556, 6102, 8759, 10354, ...            257   \n",
      "43240   [638, 1903, 3556, 4600, 10354, 11676, 13552, 1...            177   \n",
      "43241   [1903, 3556, 6700, 10354, 12272, 13552, 13582,...            173   \n",
      "129842  [254, 11676, 11944, 13191, 16601, 26057, 30711...             63   \n",
      "130024  [5539, 11993, 13094, 26196, 26544, 27291, 2731...             62   \n",
      "\n",
      "        Average-Rating  \n",
      "43238         5.007117  \n",
      "43239         4.505837  \n",
      "43240         4.276836  \n",
      "43241         4.184971  \n",
      "129842        6.206349  \n",
      "130024        5.516129  \n"
     ]
    }
   ],
   "source": [
    "# toto jsem použili už pedtím LORD_books = new_books[new_books[\"Book-Title\"].str.contains(\"lord of the rings\", case=False, na=False)]\n",
    "# jen updatujem jméno našeho datasetu, protože jsme mezitím upravili\n",
    "LORD_books2 = books_plus_ratings_updated[books_plus_ratings_updated[\"Book-Title\"].str.contains(\"lord of the rings\", case=False, na=False)]\n",
    "LORD_RATINGS = LORD_books2.sort_values(by=\"Total-Ratings\", ascending=False).head(6)\n",
    "print(LORD_RATINGS)\n",
    "\n",
    "\n",
    "# ťady šlo zjitit, že sice average rating může dosáhnout třeba 10tky, ale když dáme filtr na to, dle počtu hlasujících, klesne to na 5...to by chtělo tež pročistit v tom data setu"
   ]
  },
  {
   "cell_type": "code",
   "execution_count": 18,
   "id": "57c4883c-29b1-4fda-b548-c32e98678f82",
   "metadata": {
    "tags": []
   },
   "outputs": [],
   "source": [
    "# tady jdu step back\n",
    "books_plus_ratings_bez_duplicates=books_plus_ratings_updated.sort_values(\"Total-Ratings\",ascending = False).drop_duplicates(subset =[\"Book-Author\", \"Year-Of-Publication\"], keep = \"first\")\n",
    "\n",
    "# ťento kod znám z kurzu (sešit) ale použili jsme na imdb movies "
   ]
  },
  {
   "cell_type": "code",
   "execution_count": 19,
   "id": "db600f5f-905d-4068-8cdb-19c22712ca89",
   "metadata": {
    "tags": []
   },
   "outputs": [
    {
     "data": {
      "text/html": [
       "<div>\n",
       "<style scoped>\n",
       "    .dataframe tbody tr th:only-of-type {\n",
       "        vertical-align: middle;\n",
       "    }\n",
       "\n",
       "    .dataframe tbody tr th {\n",
       "        vertical-align: top;\n",
       "    }\n",
       "\n",
       "    .dataframe thead th {\n",
       "        text-align: right;\n",
       "    }\n",
       "</style>\n",
       "<table border=\"1\" class=\"dataframe\">\n",
       "  <thead>\n",
       "    <tr style=\"text-align: right;\">\n",
       "      <th></th>\n",
       "      <th>ISBN</th>\n",
       "      <th>Book-Title</th>\n",
       "      <th>Book-Author</th>\n",
       "      <th>Year-Of-Publication</th>\n",
       "      <th>User-IDs</th>\n",
       "      <th>Total-Ratings</th>\n",
       "      <th>Average-Rating</th>\n",
       "    </tr>\n",
       "  </thead>\n",
       "  <tbody>\n",
       "    <tr>\n",
       "      <th>215951</th>\n",
       "      <td>0971880107</td>\n",
       "      <td>Wild Animus</td>\n",
       "      <td>Rich Shapero</td>\n",
       "      <td>2004</td>\n",
       "      <td>[276925, 276939, 276954, 277042, 277157, 27737...</td>\n",
       "      <td>2502</td>\n",
       "      <td>1.019584</td>\n",
       "    </tr>\n",
       "    <tr>\n",
       "      <th>38570</th>\n",
       "      <td>0316666343</td>\n",
       "      <td>The Lovely Bones: A Novel</td>\n",
       "      <td>Alice Sebold</td>\n",
       "      <td>2002</td>\n",
       "      <td>[276925, 277195, 277413, 277427, 277439, 27775...</td>\n",
       "      <td>1295</td>\n",
       "      <td>4.468726</td>\n",
       "    </tr>\n",
       "    <tr>\n",
       "      <th>70798</th>\n",
       "      <td>0385504209</td>\n",
       "      <td>The Da Vinci Code</td>\n",
       "      <td>Dan Brown</td>\n",
       "      <td>2003</td>\n",
       "      <td>[276925, 277427, 277439, 277589, 638, 882, 107...</td>\n",
       "      <td>883</td>\n",
       "      <td>4.652322</td>\n",
       "    </tr>\n",
       "    <tr>\n",
       "      <th>7344</th>\n",
       "      <td>0060928336</td>\n",
       "      <td>Divine Secrets Of The Ya-Ya Sisterhood: A Novel</td>\n",
       "      <td>Rebecca Wells</td>\n",
       "      <td>1997</td>\n",
       "      <td>[277895, 278007, 278144, 805, 900, 1025, 2337,...</td>\n",
       "      <td>732</td>\n",
       "      <td>3.448087</td>\n",
       "    </tr>\n",
       "    <tr>\n",
       "      <th>32370</th>\n",
       "      <td>0312195516</td>\n",
       "      <td>The Red Tent (Bestselling Backlist)</td>\n",
       "      <td>Anita Diamant</td>\n",
       "      <td>1998</td>\n",
       "      <td>[277378, 277462, 277937, 278137, 278350, 446, ...</td>\n",
       "      <td>723</td>\n",
       "      <td>4.334716</td>\n",
       "    </tr>\n",
       "    <tr>\n",
       "      <th>87397</th>\n",
       "      <td>044023722X</td>\n",
       "      <td>A Painted House</td>\n",
       "      <td>John Grisham</td>\n",
       "      <td>2001</td>\n",
       "      <td>[277212, 277411, 278418, 243, 256, 1435, 1530,...</td>\n",
       "      <td>647</td>\n",
       "      <td>3.187017</td>\n",
       "    </tr>\n",
       "    <tr>\n",
       "      <th>21342</th>\n",
       "      <td>0142001740</td>\n",
       "      <td>The Secret Life Of Bees</td>\n",
       "      <td>Sue Monk Kidd</td>\n",
       "      <td>2003</td>\n",
       "      <td>[277427, 277803, 277958, 278541, 254, 383, 507...</td>\n",
       "      <td>615</td>\n",
       "      <td>4.219512</td>\n",
       "    </tr>\n",
       "    <tr>\n",
       "      <th>145042</th>\n",
       "      <td>067976402X</td>\n",
       "      <td>Snow Falling On Cedars</td>\n",
       "      <td>David Guterson</td>\n",
       "      <td>1995</td>\n",
       "      <td>[277888, 277997, 254, 882, 1535, 2766, 2891, 3...</td>\n",
       "      <td>614</td>\n",
       "      <td>3.255700</td>\n",
       "    </tr>\n",
       "    <tr>\n",
       "      <th>133142</th>\n",
       "      <td>0671027360</td>\n",
       "      <td>Angels &amp;Amp; Demons</td>\n",
       "      <td>Dan Brown</td>\n",
       "      <td>2001</td>\n",
       "      <td>[277439, 278254, 278390, 278422, 114, 1031, 18...</td>\n",
       "      <td>586</td>\n",
       "      <td>3.718430</td>\n",
       "    </tr>\n",
       "    <tr>\n",
       "      <th>93847</th>\n",
       "      <td>0446672211</td>\n",
       "      <td>Where The Heart Is (Oprah'S Book Club (Paperba...</td>\n",
       "      <td>Billie Letts</td>\n",
       "      <td>1998</td>\n",
       "      <td>[277901, 277938, 278144, 278418, 278633, 595, ...</td>\n",
       "      <td>585</td>\n",
       "      <td>4.105983</td>\n",
       "    </tr>\n",
       "  </tbody>\n",
       "</table>\n",
       "</div>"
      ],
      "text/plain": [
       "              ISBN                                         Book-Title  \\\n",
       "215951  0971880107                                        Wild Animus   \n",
       "38570   0316666343                          The Lovely Bones: A Novel   \n",
       "70798   0385504209                                  The Da Vinci Code   \n",
       "7344    0060928336    Divine Secrets Of The Ya-Ya Sisterhood: A Novel   \n",
       "32370   0312195516                The Red Tent (Bestselling Backlist)   \n",
       "87397   044023722X                                    A Painted House   \n",
       "21342   0142001740                            The Secret Life Of Bees   \n",
       "145042  067976402X                             Snow Falling On Cedars   \n",
       "133142  0671027360                                Angels &Amp; Demons   \n",
       "93847   0446672211  Where The Heart Is (Oprah'S Book Club (Paperba...   \n",
       "\n",
       "           Book-Author Year-Of-Publication  \\\n",
       "215951    Rich Shapero                2004   \n",
       "38570     Alice Sebold                2002   \n",
       "70798        Dan Brown                2003   \n",
       "7344     Rebecca Wells                1997   \n",
       "32370    Anita Diamant                1998   \n",
       "87397     John Grisham                2001   \n",
       "21342    Sue Monk Kidd                2003   \n",
       "145042  David Guterson                1995   \n",
       "133142       Dan Brown                2001   \n",
       "93847     Billie Letts                1998   \n",
       "\n",
       "                                                 User-IDs  Total-Ratings  \\\n",
       "215951  [276925, 276939, 276954, 277042, 277157, 27737...           2502   \n",
       "38570   [276925, 277195, 277413, 277427, 277439, 27775...           1295   \n",
       "70798   [276925, 277427, 277439, 277589, 638, 882, 107...            883   \n",
       "7344    [277895, 278007, 278144, 805, 900, 1025, 2337,...            732   \n",
       "32370   [277378, 277462, 277937, 278137, 278350, 446, ...            723   \n",
       "87397   [277212, 277411, 278418, 243, 256, 1435, 1530,...            647   \n",
       "21342   [277427, 277803, 277958, 278541, 254, 383, 507...            615   \n",
       "145042  [277888, 277997, 254, 882, 1535, 2766, 2891, 3...            614   \n",
       "133142  [277439, 278254, 278390, 278422, 114, 1031, 18...            586   \n",
       "93847   [277901, 277938, 278144, 278418, 278633, 595, ...            585   \n",
       "\n",
       "        Average-Rating  \n",
       "215951        1.019584  \n",
       "38570         4.468726  \n",
       "70798         4.652322  \n",
       "7344          3.448087  \n",
       "32370         4.334716  \n",
       "87397         3.187017  \n",
       "21342         4.219512  \n",
       "145042        3.255700  \n",
       "133142        3.718430  \n",
       "93847         4.105983  "
      ]
     },
     "execution_count": 19,
     "metadata": {},
     "output_type": "execute_result"
    }
   ],
   "source": [
    "books_plus_ratings_bez_duplicates.head(10)\n"
   ]
  },
  {
   "cell_type": "code",
   "execution_count": 20,
   "id": "43d95867-1ba3-4ecc-a254-9c16d8eb910e",
   "metadata": {
    "tags": []
   },
   "outputs": [],
   "source": [
    "# ˇok, takže ted máme data set, kde máme 1X ISBN, vždy jen knihu vydanou v daném roce (ty jino jazyčné zůstavají), \n",
    "# a máme hlavní rozdělovač v novém Average rating\n",
    "\n"
   ]
  },
  {
   "cell_type": "markdown",
   "id": "311b7363-7ddc-4463-b837-ca7ef669ffa4",
   "metadata": {},
   "source": [
    "DOPORUCENI\n"
   ]
  },
  {
   "cell_type": "code",
   "execution_count": 21,
   "id": "d1939308-337f-447e-8a17-e4f28dbfb564",
   "metadata": {
    "tags": []
   },
   "outputs": [],
   "source": [
    "# proč nezařazuji dataset \" Users\"\n",
    "# o některých regionech/zemích jsou známy kulturní rozdíly...někde se čte náboženská literatura víc, někde míň (Salt Lake city vs Havíov.\n",
    "#  tím, že nemám e u knih uvedeny žánry, se to ztěžuje"
   ]
  },
  {
   "cell_type": "code",
   "execution_count": 22,
   "id": "e086f19b-6a31-445a-878a-67264bbab024",
   "metadata": {
    "tags": []
   },
   "outputs": [],
   "source": [
    "# users = pd.read_csv(\"C:\\\\Users\\\\MARTA\\\\Desktop\\\\git david\\\\Users.csv\")\n",
    "# users.head()\n",
    "# users.info()"
   ]
  },
  {
   "cell_type": "code",
   "execution_count": null,
   "id": "d73f92c0-6fc7-48af-a662-49b5b5ea8476",
   "metadata": {},
   "outputs": [],
   "source": [
    "# tady vidíme, že polovina Age chybí, jako jde hypotetizovat že určitá generace ve vlnách má zájem o ten a ten žánr - moje babička asi by nečetla korejské komiksy, ale \n",
    "# ňevidím důvod tady dávat nějaký mean \n",
    "# ˇjako jediné vodítko tady by mohla být ta země, ale jelikož je náš dotaz v češtině - a máme jen 202 userů z témeř 300.000 \n",
    "# takže to co se líbí 0.06% v česku bydlícím userům z datasetu se nemusí líbit mě :) - tak proto nezahrnuji tento dataset vůbec\n"
   ]
  },
  {
   "cell_type": "markdown",
   "id": "e1d96a5c-58bc-447d-a15f-f189565fe967",
   "metadata": {
    "tags": []
   },
   "source": [
    "posledni úpravy\n"
   ]
  },
  {
   "cell_type": "code",
   "execution_count": 27,
   "id": "22654c1d-0bb1-46d7-af78-57907351751a",
   "metadata": {
    "tags": []
   },
   "outputs": [
    {
     "data": {
      "text/html": [
       "<div>\n",
       "<style scoped>\n",
       "    .dataframe tbody tr th:only-of-type {\n",
       "        vertical-align: middle;\n",
       "    }\n",
       "\n",
       "    .dataframe tbody tr th {\n",
       "        vertical-align: top;\n",
       "    }\n",
       "\n",
       "    .dataframe thead th {\n",
       "        text-align: right;\n",
       "    }\n",
       "</style>\n",
       "<table border=\"1\" class=\"dataframe\">\n",
       "  <thead>\n",
       "    <tr style=\"text-align: right;\">\n",
       "      <th></th>\n",
       "      <th>ISBN</th>\n",
       "      <th>Book-Title</th>\n",
       "      <th>Book-Author</th>\n",
       "      <th>Year-Of-Publication</th>\n",
       "      <th>User-IDs</th>\n",
       "      <th>Total-Ratings</th>\n",
       "      <th>Average-Rating</th>\n",
       "    </tr>\n",
       "  </thead>\n",
       "  <tbody>\n",
       "    <tr>\n",
       "      <th>215951</th>\n",
       "      <td>0971880107</td>\n",
       "      <td>Wild Animus</td>\n",
       "      <td>Rich Shapero</td>\n",
       "      <td>2004</td>\n",
       "      <td>[276925, 276939, 276954, 277042, 277157, 27737...</td>\n",
       "      <td>2502</td>\n",
       "      <td>1.019584</td>\n",
       "    </tr>\n",
       "    <tr>\n",
       "      <th>38570</th>\n",
       "      <td>0316666343</td>\n",
       "      <td>The Lovely Bones: A Novel</td>\n",
       "      <td>Alice Sebold</td>\n",
       "      <td>2002</td>\n",
       "      <td>[276925, 277195, 277413, 277427, 277439, 27775...</td>\n",
       "      <td>1295</td>\n",
       "      <td>4.468726</td>\n",
       "    </tr>\n",
       "    <tr>\n",
       "      <th>70798</th>\n",
       "      <td>0385504209</td>\n",
       "      <td>The Da Vinci Code</td>\n",
       "      <td>Dan Brown</td>\n",
       "      <td>2003</td>\n",
       "      <td>[276925, 277427, 277439, 277589, 638, 882, 107...</td>\n",
       "      <td>883</td>\n",
       "      <td>4.652322</td>\n",
       "    </tr>\n",
       "    <tr>\n",
       "      <th>7344</th>\n",
       "      <td>0060928336</td>\n",
       "      <td>Divine Secrets Of The Ya-Ya Sisterhood: A Novel</td>\n",
       "      <td>Rebecca Wells</td>\n",
       "      <td>1997</td>\n",
       "      <td>[277895, 278007, 278144, 805, 900, 1025, 2337,...</td>\n",
       "      <td>732</td>\n",
       "      <td>3.448087</td>\n",
       "    </tr>\n",
       "  </tbody>\n",
       "</table>\n",
       "</div>"
      ],
      "text/plain": [
       "              ISBN                                       Book-Title  \\\n",
       "215951  0971880107                                      Wild Animus   \n",
       "38570   0316666343                        The Lovely Bones: A Novel   \n",
       "70798   0385504209                                The Da Vinci Code   \n",
       "7344    0060928336  Divine Secrets Of The Ya-Ya Sisterhood: A Novel   \n",
       "\n",
       "          Book-Author Year-Of-Publication  \\\n",
       "215951   Rich Shapero                2004   \n",
       "38570    Alice Sebold                2002   \n",
       "70798       Dan Brown                2003   \n",
       "7344    Rebecca Wells                1997   \n",
       "\n",
       "                                                 User-IDs  Total-Ratings  \\\n",
       "215951  [276925, 276939, 276954, 277042, 277157, 27737...           2502   \n",
       "38570   [276925, 277195, 277413, 277427, 277439, 27775...           1295   \n",
       "70798   [276925, 277427, 277439, 277589, 638, 882, 107...            883   \n",
       "7344    [277895, 278007, 278144, 805, 900, 1025, 2337,...            732   \n",
       "\n",
       "        Average-Rating  \n",
       "215951        1.019584  \n",
       "38570         4.468726  \n",
       "70798         4.652322  \n",
       "7344          3.448087  "
      ]
     },
     "execution_count": 27,
     "metadata": {},
     "output_type": "execute_result"
    }
   ],
   "source": [
    "books_plus_ratings_bez_duplicates.head(4)\n",
    "# ještě si vymažu ten prní sloupeček\n"
   ]
  },
  {
   "cell_type": "code",
   "execution_count": 28,
   "id": "ea1af53f-37aa-4fff-b9a1-52b720945a41",
   "metadata": {
    "tags": []
   },
   "outputs": [
    {
     "data": {
      "text/html": [
       "<div>\n",
       "<style scoped>\n",
       "    .dataframe tbody tr th:only-of-type {\n",
       "        vertical-align: middle;\n",
       "    }\n",
       "\n",
       "    .dataframe tbody tr th {\n",
       "        vertical-align: top;\n",
       "    }\n",
       "\n",
       "    .dataframe thead th {\n",
       "        text-align: right;\n",
       "    }\n",
       "</style>\n",
       "<table border=\"1\" class=\"dataframe\">\n",
       "  <thead>\n",
       "    <tr style=\"text-align: right;\">\n",
       "      <th></th>\n",
       "      <th>Book-Title</th>\n",
       "      <th>Book-Author</th>\n",
       "      <th>Year-Of-Publication</th>\n",
       "      <th>User-IDs</th>\n",
       "      <th>Total-Ratings</th>\n",
       "      <th>Average-Rating</th>\n",
       "    </tr>\n",
       "    <tr>\n",
       "      <th>ISBN</th>\n",
       "      <th></th>\n",
       "      <th></th>\n",
       "      <th></th>\n",
       "      <th></th>\n",
       "      <th></th>\n",
       "      <th></th>\n",
       "    </tr>\n",
       "  </thead>\n",
       "  <tbody>\n",
       "    <tr>\n",
       "      <th>0000913154</th>\n",
       "      <td>The Way Things Work: An Illustrated Encycloped...</td>\n",
       "      <td>C. Van Amerongen (Translator)</td>\n",
       "      <td>1967</td>\n",
       "      <td>[171118]</td>\n",
       "      <td>1</td>\n",
       "      <td>8.0</td>\n",
       "    </tr>\n",
       "    <tr>\n",
       "      <th>0001010565</th>\n",
       "      <td>Mog'S Christmas</td>\n",
       "      <td>Judith Kerr</td>\n",
       "      <td>1992</td>\n",
       "      <td>[86123, 209516]</td>\n",
       "      <td>2</td>\n",
       "      <td>0.0</td>\n",
       "    </tr>\n",
       "    <tr>\n",
       "      <th>0001046713</th>\n",
       "      <td>Twopence To Cross The Mersey</td>\n",
       "      <td>Helen Forrester</td>\n",
       "      <td>1992</td>\n",
       "      <td>[196149]</td>\n",
       "      <td>1</td>\n",
       "      <td>0.0</td>\n",
       "    </tr>\n",
       "    <tr>\n",
       "      <th>000104687X</th>\n",
       "      <td>T.S. Eliot Reading \\The Wasteland\\\" And Other ...</td>\n",
       "      <td>T.S. Eliot</td>\n",
       "      <td>1993</td>\n",
       "      <td>[23902]</td>\n",
       "      <td>1</td>\n",
       "      <td>6.0</td>\n",
       "    </tr>\n",
       "    <tr>\n",
       "      <th>0001048473</th>\n",
       "      <td>Nothing Can Be Better</td>\n",
       "      <td>Barns &amp;Amp; Budd</td>\n",
       "      <td>1996</td>\n",
       "      <td>[23902]</td>\n",
       "      <td>1</td>\n",
       "      <td>0.0</td>\n",
       "    </tr>\n",
       "  </tbody>\n",
       "</table>\n",
       "</div>"
      ],
      "text/plain": [
       "                                                   Book-Title  \\\n",
       "ISBN                                                            \n",
       "0000913154  The Way Things Work: An Illustrated Encycloped...   \n",
       "0001010565                                    Mog'S Christmas   \n",
       "0001046713                       Twopence To Cross The Mersey   \n",
       "000104687X  T.S. Eliot Reading \\The Wasteland\\\" And Other ...   \n",
       "0001048473                              Nothing Can Be Better   \n",
       "\n",
       "                              Book-Author Year-Of-Publication  \\\n",
       "ISBN                                                            \n",
       "0000913154  C. Van Amerongen (Translator)                1967   \n",
       "0001010565                    Judith Kerr                1992   \n",
       "0001046713                Helen Forrester                1992   \n",
       "000104687X                     T.S. Eliot                1993   \n",
       "0001048473               Barns &Amp; Budd                1996   \n",
       "\n",
       "                   User-IDs  Total-Ratings  Average-Rating  \n",
       "ISBN                                                        \n",
       "0000913154         [171118]              1             8.0  \n",
       "0001010565  [86123, 209516]              2             0.0  \n",
       "0001046713         [196149]              1             0.0  \n",
       "000104687X          [23902]              1             6.0  \n",
       "0001048473          [23902]              1             0.0  "
      ]
     },
     "execution_count": 28,
     "metadata": {},
     "output_type": "execute_result"
    }
   ],
   "source": [
    "data_for_recommendation = books_plus_ratings_bez_duplicates.set_index(\"ISBN\").sort_index()\n",
    "data_for_recommendation.head()"
   ]
  },
  {
   "cell_type": "code",
   "execution_count": 32,
   "id": "cfe74e74-66bf-47bc-9624-eb8db6c7a62d",
   "metadata": {
    "tags": []
   },
   "outputs": [
    {
     "data": {
      "text/html": [
       "<div>\n",
       "<style scoped>\n",
       "    .dataframe tbody tr th:only-of-type {\n",
       "        vertical-align: middle;\n",
       "    }\n",
       "\n",
       "    .dataframe tbody tr th {\n",
       "        vertical-align: top;\n",
       "    }\n",
       "\n",
       "    .dataframe thead th {\n",
       "        text-align: right;\n",
       "    }\n",
       "</style>\n",
       "<table border=\"1\" class=\"dataframe\">\n",
       "  <thead>\n",
       "    <tr style=\"text-align: right;\">\n",
       "      <th></th>\n",
       "      <th>Book-Title</th>\n",
       "      <th>Book-Author</th>\n",
       "      <th>Year-Of-Publication</th>\n",
       "      <th>User-IDs</th>\n",
       "      <th>Total-Ratings</th>\n",
       "      <th>Average-Rating</th>\n",
       "    </tr>\n",
       "    <tr>\n",
       "      <th>ISBN</th>\n",
       "      <th></th>\n",
       "      <th></th>\n",
       "      <th></th>\n",
       "      <th></th>\n",
       "      <th></th>\n",
       "      <th></th>\n",
       "    </tr>\n",
       "  </thead>\n",
       "  <tbody>\n",
       "    <tr>\n",
       "      <th>0000913154</th>\n",
       "      <td>The Way Things Work: An Illustrated Encycloped...</td>\n",
       "      <td>C. Van Amerongen (Translator)</td>\n",
       "      <td>1967</td>\n",
       "      <td>[171118]</td>\n",
       "      <td>1</td>\n",
       "      <td>8.0</td>\n",
       "    </tr>\n",
       "    <tr>\n",
       "      <th>0001010565</th>\n",
       "      <td>Mog'S Christmas</td>\n",
       "      <td>Judith Kerr</td>\n",
       "      <td>1992</td>\n",
       "      <td>[86123, 209516]</td>\n",
       "      <td>2</td>\n",
       "      <td>0.0</td>\n",
       "    </tr>\n",
       "  </tbody>\n",
       "</table>\n",
       "</div>"
      ],
      "text/plain": [
       "                                                   Book-Title  \\\n",
       "ISBN                                                            \n",
       "0000913154  The Way Things Work: An Illustrated Encycloped...   \n",
       "0001010565                                    Mog'S Christmas   \n",
       "\n",
       "                              Book-Author Year-Of-Publication  \\\n",
       "ISBN                                                            \n",
       "0000913154  C. Van Amerongen (Translator)                1967   \n",
       "0001010565                    Judith Kerr                1992   \n",
       "\n",
       "                   User-IDs  Total-Ratings  Average-Rating  \n",
       "ISBN                                                        \n",
       "0000913154         [171118]              1             8.0  \n",
       "0001010565  [86123, 209516]              2             0.0  "
      ]
     },
     "execution_count": 32,
     "metadata": {},
     "output_type": "execute_result"
    }
   ],
   "source": [
    "# kdyby se naše situace s dataframe Users změnila a byl pro nás důležitý, tak bychom ponechalo User IDs \n",
    "# to jsem mohla udělat hned ze startu, kdybych se více zamyslela nad Users už na začátku\n",
    "data_for_recommendation.drop(columns = \"User-IDs\")\n",
    "data_for_recommendation.head(2)\n"
   ]
  },
  {
   "cell_type": "markdown",
   "id": "8411fa6b-99c1-4115-8a7e-6f7de8a293b7",
   "metadata": {},
   "source": [
    "ML"
   ]
  },
  {
   "cell_type": "code",
   "execution_count": 75,
   "id": "a02c9adc-ccd4-4891-8938-8e873d74aba2",
   "metadata": {
    "tags": []
   },
   "outputs": [
    {
     "data": {
      "text/html": [
       "<style>#sk-container-id-2 {color: black;}#sk-container-id-2 pre{padding: 0;}#sk-container-id-2 div.sk-toggleable {background-color: white;}#sk-container-id-2 label.sk-toggleable__label {cursor: pointer;display: block;width: 100%;margin-bottom: 0;padding: 0.3em;box-sizing: border-box;text-align: center;}#sk-container-id-2 label.sk-toggleable__label-arrow:before {content: \"▸\";float: left;margin-right: 0.25em;color: #696969;}#sk-container-id-2 label.sk-toggleable__label-arrow:hover:before {color: black;}#sk-container-id-2 div.sk-estimator:hover label.sk-toggleable__label-arrow:before {color: black;}#sk-container-id-2 div.sk-toggleable__content {max-height: 0;max-width: 0;overflow: hidden;text-align: left;background-color: #f0f8ff;}#sk-container-id-2 div.sk-toggleable__content pre {margin: 0.2em;color: black;border-radius: 0.25em;background-color: #f0f8ff;}#sk-container-id-2 input.sk-toggleable__control:checked~div.sk-toggleable__content {max-height: 200px;max-width: 100%;overflow: auto;}#sk-container-id-2 input.sk-toggleable__control:checked~label.sk-toggleable__label-arrow:before {content: \"▾\";}#sk-container-id-2 div.sk-estimator input.sk-toggleable__control:checked~label.sk-toggleable__label {background-color: #d4ebff;}#sk-container-id-2 div.sk-label input.sk-toggleable__control:checked~label.sk-toggleable__label {background-color: #d4ebff;}#sk-container-id-2 input.sk-hidden--visually {border: 0;clip: rect(1px 1px 1px 1px);clip: rect(1px, 1px, 1px, 1px);height: 1px;margin: -1px;overflow: hidden;padding: 0;position: absolute;width: 1px;}#sk-container-id-2 div.sk-estimator {font-family: monospace;background-color: #f0f8ff;border: 1px dotted black;border-radius: 0.25em;box-sizing: border-box;margin-bottom: 0.5em;}#sk-container-id-2 div.sk-estimator:hover {background-color: #d4ebff;}#sk-container-id-2 div.sk-parallel-item::after {content: \"\";width: 100%;border-bottom: 1px solid gray;flex-grow: 1;}#sk-container-id-2 div.sk-label:hover label.sk-toggleable__label {background-color: #d4ebff;}#sk-container-id-2 div.sk-serial::before {content: \"\";position: absolute;border-left: 1px solid gray;box-sizing: border-box;top: 0;bottom: 0;left: 50%;z-index: 0;}#sk-container-id-2 div.sk-serial {display: flex;flex-direction: column;align-items: center;background-color: white;padding-right: 0.2em;padding-left: 0.2em;position: relative;}#sk-container-id-2 div.sk-item {position: relative;z-index: 1;}#sk-container-id-2 div.sk-parallel {display: flex;align-items: stretch;justify-content: center;background-color: white;position: relative;}#sk-container-id-2 div.sk-item::before, #sk-container-id-2 div.sk-parallel-item::before {content: \"\";position: absolute;border-left: 1px solid gray;box-sizing: border-box;top: 0;bottom: 0;left: 50%;z-index: -1;}#sk-container-id-2 div.sk-parallel-item {display: flex;flex-direction: column;z-index: 1;position: relative;background-color: white;}#sk-container-id-2 div.sk-parallel-item:first-child::after {align-self: flex-end;width: 50%;}#sk-container-id-2 div.sk-parallel-item:last-child::after {align-self: flex-start;width: 50%;}#sk-container-id-2 div.sk-parallel-item:only-child::after {width: 0;}#sk-container-id-2 div.sk-dashed-wrapped {border: 1px dashed gray;margin: 0 0.4em 0.5em 0.4em;box-sizing: border-box;padding-bottom: 0.4em;background-color: white;}#sk-container-id-2 div.sk-label label {font-family: monospace;font-weight: bold;display: inline-block;line-height: 1.2em;}#sk-container-id-2 div.sk-label-container {text-align: center;}#sk-container-id-2 div.sk-container {/* jupyter's `normalize.less` sets `[hidden] { display: none; }` but bootstrap.min.css set `[hidden] { display: none !important; }` so we also need the `!important` here to be able to override the default hidden behavior on the sphinx rendered scikit-learn.org. See: https://github.com/scikit-learn/scikit-learn/issues/21755 */display: inline-block !important;position: relative;}#sk-container-id-2 div.sk-text-repr-fallback {display: none;}</style><div id=\"sk-container-id-2\" class=\"sk-top-container\"><div class=\"sk-text-repr-fallback\"><pre>NearestNeighbors(metric=&#x27;euclidean&#x27;, n_neighbors=11)</pre><b>In a Jupyter environment, please rerun this cell to show the HTML representation or trust the notebook. <br />On GitHub, the HTML representation is unable to render, please try loading this page with nbviewer.org.</b></div><div class=\"sk-container\" hidden><div class=\"sk-item\"><div class=\"sk-estimator sk-toggleable\"><input class=\"sk-toggleable__control sk-hidden--visually\" id=\"sk-estimator-id-2\" type=\"checkbox\" checked><label for=\"sk-estimator-id-2\" class=\"sk-toggleable__label sk-toggleable__label-arrow\">NearestNeighbors</label><div class=\"sk-toggleable__content\"><pre>NearestNeighbors(metric=&#x27;euclidean&#x27;, n_neighbors=11)</pre></div></div></div></div></div>"
      ],
      "text/plain": [
       "NearestNeighbors(metric='euclidean', n_neighbors=11)"
      ]
     },
     "execution_count": 75,
     "metadata": {},
     "output_type": "execute_result"
    }
   ],
   "source": [
    "# můj recommendation system se bude rozhodovat dle podobného hodnocení (protože nemáme uveden žánr knih, popřípadě dle autora)...ale tady bychom mohli brzy \"dojet\"\n",
    "# protože někdo třeba napíše jen 1 hit a ostatní jsou propadáky...nebo má jen 1 knihu v datasetu atd...asi nejjednoduší je vybrat velice stejné hodnocení\n",
    "# ˇmít žánry tak jedu Naive Bayes\n",
    "\n",
    "from sklearn.neighbors import NearestNeighbors\n",
    "import warnings\n",
    "warnings.filterwarnings('ignore')\n",
    "\n",
    "knn_model = NearestNeighbors(n_neighbors=11, metric=\"euclidean\") \n",
    "knn_model.fit(data_for_recommendation[[\"Average-Rating\"]])\n",
    "\n",
    "# dala jsem 10 neughbors, je tam hodně knih v datasetu\n",
    "\n",
    "\n",
    "# Duležité  tady u KNN je,že neděláme test split atd. nic netrénujeme, jen najdeme NN a uděláme prediction!\n",
    "\n"
   ]
  },
  {
   "cell_type": "code",
   "execution_count": 76,
   "id": "076ef774-5830-4386-9f13-66b1dc2aa9b1",
   "metadata": {
    "tags": []
   },
   "outputs": [],
   "source": [
    "# no a tady si to zkusíme\n",
    "def recommendations(nazev_knihy, n_recommendations=11):\n",
    "    user_hleda_podobnou = data_for_recommendation[data_for_recommendation[\"Book-Title\"].str.lower() == nazev_knihy.lower()]\n",
    "   \n",
    "    if user_hleda_podobnou.empty:\n",
    "        return pd.DataFrame({\"Book-Title\": [f\"Knihu '{nazev_knihy}' jsem nenašla.\"]})\n",
    "# ˇměla jsem tady :  return (f\"Knihu '{nazev_knihy}' co jsi ale potom mi to blblo při testování,...protože mi\n",
    "# ťo v pípadě neznámé knihy vyhazovalo error -  string indices must be integers, not 'str' ...dodala jsem \n",
    "# pd.DataFrame dle chatu\n",
    "    \n",
    "    podobne_knihy = user_hleda_podobnou[\"Average-Rating\"].values[0]  \n",
    "# nula protože KNN je jen 1 value\n",
    "    distances, indices = knn_model.kneighbors([[podobne_knihy]], n_neighbors=n_recommendations)\n",
    "    doporucene_knihy = data_for_recommendation.iloc[indices[0][1:]]\n",
    "    \n",
    "    return doporucene_knihy[[\"Book-Title\", \"Book-Author\", \"Average-Rating\"]]\n",
    "    \n",
    "# distances, indices a data_for_recommendation.iloc[indices[0][1:]]- mi musel poradit chat, házelo mi to error\n"
   ]
  },
  {
   "cell_type": "code",
   "execution_count": null,
   "id": "fb605aa7-3ea8-4192-a896-01036fdcd3b8",
   "metadata": {
    "tags": []
   },
   "outputs": [],
   "source": [
    "# příklad\n",
    "\n",
    "nazev_knihy = input(\"Jakou knihu máš rád: \")\n",
    "output = recommendations(nazev_knihy)\n",
    "print(output[\"Book-Title\"])"
   ]
  },
  {
   "cell_type": "code",
   "execution_count": 78,
   "id": "a80a1bb7-2650-43d5-b0a3-2c132929aacd",
   "metadata": {
    "tags": []
   },
   "outputs": [],
   "source": [
    "# pro hezčí implementaci toho doporučení by se dala  !pip install ipywidgets\n",
    "# import ipywidgets as widgets\n",
    "# from IPython.display import display\n",
    "# jen jsem viděla, v kurzu, ale nezkoušela - \n",
    "# hodí to droup down a button"
   ]
  },
  {
   "cell_type": "code",
   "execution_count": 80,
   "id": "fb325942-102b-49f0-9455-78f1bd0309d8",
   "metadata": {
    "tags": []
   },
   "outputs": [],
   "source": []
  },
  {
   "cell_type": "code",
   "execution_count": null,
   "id": "4416f550-73a9-48fe-8165-399960d8393b",
   "metadata": {},
   "outputs": [],
   "source": []
  },
  {
   "cell_type": "code",
   "execution_count": 82,
   "id": "edcf6179-3777-44c8-8c12-b05a3f5c1f2f",
   "metadata": {
    "tags": []
   },
   "outputs": [],
   "source": [
    "# KNN je lazy learner - nejde na něj udělat testing (evaluaci),ty predictions jsou na test datech...\n",
    "# takže this is it :) takže pokud ho uploadnem, musíme mít všechny ta trénovací data sebou"
   ]
  },
  {
   "cell_type": "code",
   "execution_count": null,
   "id": "d7c05f1e-c7b5-40db-a7ae-bac11ca9bd0e",
   "metadata": {},
   "outputs": [],
   "source": []
  },
  {
   "cell_type": "markdown",
   "id": "00ec5828-f2c2-4b59-b850-ed85e85604de",
   "metadata": {
    "tags": []
   },
   "source": [
    "# Když to chceme trochu jinak \n",
    "- řekneme si co je top literatura a stanovíme si trashold na rating\n",
    "- chceme doporučovat jen lepe hodnocené knihy, protože jsou třeba dražší apod.\n",
    "\n"
   ]
  },
  {
   "cell_type": "code",
   "execution_count": 85,
   "id": "87a1a111-5b06-4d22-a2d6-1e978abe7008",
   "metadata": {
    "tags": []
   },
   "outputs": [
    {
     "name": "stdout",
     "output_type": "stream",
     "text": [
      "count    199206.000000\n",
      "mean          2.896617\n",
      "std           3.302950\n",
      "min           0.000000\n",
      "25%           0.000000\n",
      "50%           1.800000\n",
      "75%           5.000000\n",
      "max          10.000000\n",
      "Name: Average-Rating, dtype: float64\n"
     ]
    }
   ],
   "source": [
    "# vrátím se k data_for_recommendation a podívám se na rozpětí toho ratings\n",
    "\n",
    "print(data_for_recommendation[\"Average-Rating\"].describe())\n"
   ]
  },
  {
   "cell_type": "code",
   "execution_count": 90,
   "id": "1c39a256-56c1-4be9-ae25-c56652944856",
   "metadata": {
    "tags": []
   },
   "outputs": [
    {
     "data": {
      "text/html": [
       "<div>\n",
       "<style scoped>\n",
       "    .dataframe tbody tr th:only-of-type {\n",
       "        vertical-align: middle;\n",
       "    }\n",
       "\n",
       "    .dataframe tbody tr th {\n",
       "        vertical-align: top;\n",
       "    }\n",
       "\n",
       "    .dataframe thead th {\n",
       "        text-align: right;\n",
       "    }\n",
       "</style>\n",
       "<table border=\"1\" class=\"dataframe\">\n",
       "  <thead>\n",
       "    <tr style=\"text-align: right;\">\n",
       "      <th></th>\n",
       "      <th>Book-Title</th>\n",
       "      <th>Book-Author</th>\n",
       "      <th>Year-Of-Publication</th>\n",
       "      <th>User-IDs</th>\n",
       "      <th>Total-Ratings</th>\n",
       "      <th>Average-Rating</th>\n",
       "    </tr>\n",
       "    <tr>\n",
       "      <th>ISBN</th>\n",
       "      <th></th>\n",
       "      <th></th>\n",
       "      <th></th>\n",
       "      <th></th>\n",
       "      <th></th>\n",
       "      <th></th>\n",
       "    </tr>\n",
       "  </thead>\n",
       "  <tbody>\n",
       "    <tr>\n",
       "      <th>0000913154</th>\n",
       "      <td>The Way Things Work: An Illustrated Encycloped...</td>\n",
       "      <td>C. Van Amerongen (Translator)</td>\n",
       "      <td>1967</td>\n",
       "      <td>[171118]</td>\n",
       "      <td>1</td>\n",
       "      <td>8.0</td>\n",
       "    </tr>\n",
       "    <tr>\n",
       "      <th>0001055607</th>\n",
       "      <td>Cereus Blooms At Night</td>\n",
       "      <td>Shani Mootoo</td>\n",
       "      <td>0</td>\n",
       "      <td>[85526]</td>\n",
       "      <td>1</td>\n",
       "      <td>8.0</td>\n",
       "    </tr>\n",
       "    <tr>\n",
       "      <th>0001061127</th>\n",
       "      <td>Chess For Young Beginners</td>\n",
       "      <td>William T. Mcleod</td>\n",
       "      <td>1975</td>\n",
       "      <td>[131966]</td>\n",
       "      <td>1</td>\n",
       "      <td>8.0</td>\n",
       "    </tr>\n",
       "    <tr>\n",
       "      <th>0001360469</th>\n",
       "      <td>Babe Dressing</td>\n",
       "      <td>Mandy Stanley</td>\n",
       "      <td>1997</td>\n",
       "      <td>[10067]</td>\n",
       "      <td>1</td>\n",
       "      <td>10.0</td>\n",
       "    </tr>\n",
       "    <tr>\n",
       "      <th>0001374869</th>\n",
       "      <td>Baby Plays (Collins Baby And Toddler Series)</td>\n",
       "      <td>Fiona Pragoff</td>\n",
       "      <td>1994</td>\n",
       "      <td>[10067]</td>\n",
       "      <td>1</td>\n",
       "      <td>10.0</td>\n",
       "    </tr>\n",
       "  </tbody>\n",
       "</table>\n",
       "</div>"
      ],
      "text/plain": [
       "                                                   Book-Title  \\\n",
       "ISBN                                                            \n",
       "0000913154  The Way Things Work: An Illustrated Encycloped...   \n",
       "0001055607                             Cereus Blooms At Night   \n",
       "0001061127                          Chess For Young Beginners   \n",
       "0001360469                                      Babe Dressing   \n",
       "0001374869       Baby Plays (Collins Baby And Toddler Series)   \n",
       "\n",
       "                              Book-Author Year-Of-Publication  User-IDs  \\\n",
       "ISBN                                                                      \n",
       "0000913154  C. Van Amerongen (Translator)                1967  [171118]   \n",
       "0001055607                   Shani Mootoo                   0   [85526]   \n",
       "0001061127              William T. Mcleod                1975  [131966]   \n",
       "0001360469                  Mandy Stanley                1997   [10067]   \n",
       "0001374869                  Fiona Pragoff                1994   [10067]   \n",
       "\n",
       "            Total-Ratings  Average-Rating  \n",
       "ISBN                                       \n",
       "0000913154              1             8.0  \n",
       "0001055607              1             8.0  \n",
       "0001061127              1             8.0  \n",
       "0001360469              1            10.0  \n",
       "0001374869              1            10.0  "
      ]
     },
     "execution_count": 90,
     "metadata": {},
     "output_type": "execute_result"
    }
   ],
   "source": [
    "# tak max 10,mean 2.8....\n",
    "# top knihy budou mít v našem systému jen 7. rating a ne méně\n",
    "top_books_trashold = 7.5\n",
    "rating_top_books = data_for_recommendation.query(\"`Average-Rating` >= @top_books_trashold\")\n",
    "rating_top_books.head()"
   ]
  },
  {
   "cell_type": "code",
   "execution_count": 91,
   "id": "944c2651-89eb-4dac-9c83-a5f4535bdfd9",
   "metadata": {
    "tags": []
   },
   "outputs": [
    {
     "data": {
      "text/plain": [
       "(29396, 6)"
      ]
     },
     "execution_count": 91,
     "metadata": {},
     "output_type": "execute_result"
    }
   ],
   "source": [
    "rating_top_books.shape\n"
   ]
  },
  {
   "cell_type": "code",
   "execution_count": 96,
   "id": "476d4c1f-94ce-40e6-938d-bc1e1b0fca9c",
   "metadata": {
    "tags": []
   },
   "outputs": [
    {
     "data": {
      "text/html": [
       "<div>\n",
       "<style scoped>\n",
       "    .dataframe tbody tr th:only-of-type {\n",
       "        vertical-align: middle;\n",
       "    }\n",
       "\n",
       "    .dataframe tbody tr th {\n",
       "        vertical-align: top;\n",
       "    }\n",
       "\n",
       "    .dataframe thead th {\n",
       "        text-align: right;\n",
       "    }\n",
       "</style>\n",
       "<table border=\"1\" class=\"dataframe\">\n",
       "  <thead>\n",
       "    <tr style=\"text-align: right;\">\n",
       "      <th>Total-Ratings</th>\n",
       "      <th>1</th>\n",
       "      <th>2</th>\n",
       "      <th>3</th>\n",
       "      <th>4</th>\n",
       "      <th>5</th>\n",
       "      <th>6</th>\n",
       "      <th>7</th>\n",
       "      <th>8</th>\n",
       "      <th>9</th>\n",
       "      <th>10</th>\n",
       "      <th>11</th>\n",
       "      <th>12</th>\n",
       "      <th>13</th>\n",
       "      <th>14</th>\n",
       "      <th>15</th>\n",
       "      <th>54</th>\n",
       "    </tr>\n",
       "    <tr>\n",
       "      <th>Book-Title</th>\n",
       "      <th></th>\n",
       "      <th></th>\n",
       "      <th></th>\n",
       "      <th></th>\n",
       "      <th></th>\n",
       "      <th></th>\n",
       "      <th></th>\n",
       "      <th></th>\n",
       "      <th></th>\n",
       "      <th></th>\n",
       "      <th></th>\n",
       "      <th></th>\n",
       "      <th></th>\n",
       "      <th></th>\n",
       "      <th></th>\n",
       "      <th></th>\n",
       "    </tr>\n",
       "  </thead>\n",
       "  <tbody>\n",
       "    <tr>\n",
       "      <th>Microsoft Application Architecture For Microsoft .Net: Designing Application (Pro-Other)</th>\n",
       "      <td>9.0</td>\n",
       "      <td>0.0</td>\n",
       "      <td>0.0</td>\n",
       "      <td>0.0</td>\n",
       "      <td>0.0</td>\n",
       "      <td>0.0</td>\n",
       "      <td>0.0</td>\n",
       "      <td>0.0</td>\n",
       "      <td>0.0</td>\n",
       "      <td>0.0</td>\n",
       "      <td>0.0</td>\n",
       "      <td>0.0</td>\n",
       "      <td>0.0</td>\n",
       "      <td>0.0</td>\n",
       "      <td>0.0</td>\n",
       "      <td>0.0</td>\n",
       "    </tr>\n",
       "    <tr>\n",
       "      <th>The Devil Will Drag You Under</th>\n",
       "      <td>8.0</td>\n",
       "      <td>0.0</td>\n",
       "      <td>0.0</td>\n",
       "      <td>0.0</td>\n",
       "      <td>0.0</td>\n",
       "      <td>0.0</td>\n",
       "      <td>0.0</td>\n",
       "      <td>0.0</td>\n",
       "      <td>0.0</td>\n",
       "      <td>0.0</td>\n",
       "      <td>0.0</td>\n",
       "      <td>0.0</td>\n",
       "      <td>0.0</td>\n",
       "      <td>0.0</td>\n",
       "      <td>0.0</td>\n",
       "      <td>0.0</td>\n",
       "    </tr>\n",
       "    <tr>\n",
       "      <th>$30 Film School</th>\n",
       "      <td>8.0</td>\n",
       "      <td>0.0</td>\n",
       "      <td>0.0</td>\n",
       "      <td>0.0</td>\n",
       "      <td>0.0</td>\n",
       "      <td>0.0</td>\n",
       "      <td>0.0</td>\n",
       "      <td>0.0</td>\n",
       "      <td>0.0</td>\n",
       "      <td>0.0</td>\n",
       "      <td>0.0</td>\n",
       "      <td>0.0</td>\n",
       "      <td>0.0</td>\n",
       "      <td>0.0</td>\n",
       "      <td>0.0</td>\n",
       "      <td>0.0</td>\n",
       "    </tr>\n",
       "  </tbody>\n",
       "</table>\n",
       "</div>"
      ],
      "text/plain": [
       "Total-Ratings                                        1    2    3    4    5   \\\n",
       "Book-Title                                                                    \n",
       " Microsoft Application Architecture For Microso...  9.0  0.0  0.0  0.0  0.0   \n",
       " The Devil Will Drag You Under                      8.0  0.0  0.0  0.0  0.0   \n",
       "$30 Film School                                     8.0  0.0  0.0  0.0  0.0   \n",
       "\n",
       "Total-Ratings                                        6    7    8    9    10  \\\n",
       "Book-Title                                                                    \n",
       " Microsoft Application Architecture For Microso...  0.0  0.0  0.0  0.0  0.0   \n",
       " The Devil Will Drag You Under                      0.0  0.0  0.0  0.0  0.0   \n",
       "$30 Film School                                     0.0  0.0  0.0  0.0  0.0   \n",
       "\n",
       "Total-Ratings                                        11   12   13   14   15  \\\n",
       "Book-Title                                                                    \n",
       " Microsoft Application Architecture For Microso...  0.0  0.0  0.0  0.0  0.0   \n",
       " The Devil Will Drag You Under                      0.0  0.0  0.0  0.0  0.0   \n",
       "$30 Film School                                     0.0  0.0  0.0  0.0  0.0   \n",
       "\n",
       "Total-Ratings                                        54  \n",
       "Book-Title                                               \n",
       " Microsoft Application Architecture For Microso...  0.0  \n",
       " The Devil Will Drag You Under                      0.0  \n",
       "$30 Film School                                     0.0  "
      ]
     },
     "execution_count": 96,
     "metadata": {},
     "output_type": "execute_result"
    }
   ],
   "source": [
    "data_for_recommendation2 = rating_top_books.pivot_table(index=\"Book-Title\", columns=\"Total-Ratings\", values=\"Average-Rating\").fillna(0)\n",
    "data_for_recommendation2.head(3)\n",
    "# na PIVOT MATRIX pivot_table(index=\"Book-Title\",columns=\"User-ID\",values=\"Book-Ranting\").fillna(0)...) co mi tu ty knihy dá jako indexy\n"
   ]
  },
  {
   "cell_type": "code",
   "execution_count": 117,
   "id": "dfcb58ff-9dbe-43af-b829-c8786fad87a6",
   "metadata": {
    "tags": []
   },
   "outputs": [
    {
     "data": {
      "text/html": [
       "<style>#sk-container-id-6 {color: black;}#sk-container-id-6 pre{padding: 0;}#sk-container-id-6 div.sk-toggleable {background-color: white;}#sk-container-id-6 label.sk-toggleable__label {cursor: pointer;display: block;width: 100%;margin-bottom: 0;padding: 0.3em;box-sizing: border-box;text-align: center;}#sk-container-id-6 label.sk-toggleable__label-arrow:before {content: \"▸\";float: left;margin-right: 0.25em;color: #696969;}#sk-container-id-6 label.sk-toggleable__label-arrow:hover:before {color: black;}#sk-container-id-6 div.sk-estimator:hover label.sk-toggleable__label-arrow:before {color: black;}#sk-container-id-6 div.sk-toggleable__content {max-height: 0;max-width: 0;overflow: hidden;text-align: left;background-color: #f0f8ff;}#sk-container-id-6 div.sk-toggleable__content pre {margin: 0.2em;color: black;border-radius: 0.25em;background-color: #f0f8ff;}#sk-container-id-6 input.sk-toggleable__control:checked~div.sk-toggleable__content {max-height: 200px;max-width: 100%;overflow: auto;}#sk-container-id-6 input.sk-toggleable__control:checked~label.sk-toggleable__label-arrow:before {content: \"▾\";}#sk-container-id-6 div.sk-estimator input.sk-toggleable__control:checked~label.sk-toggleable__label {background-color: #d4ebff;}#sk-container-id-6 div.sk-label input.sk-toggleable__control:checked~label.sk-toggleable__label {background-color: #d4ebff;}#sk-container-id-6 input.sk-hidden--visually {border: 0;clip: rect(1px 1px 1px 1px);clip: rect(1px, 1px, 1px, 1px);height: 1px;margin: -1px;overflow: hidden;padding: 0;position: absolute;width: 1px;}#sk-container-id-6 div.sk-estimator {font-family: monospace;background-color: #f0f8ff;border: 1px dotted black;border-radius: 0.25em;box-sizing: border-box;margin-bottom: 0.5em;}#sk-container-id-6 div.sk-estimator:hover {background-color: #d4ebff;}#sk-container-id-6 div.sk-parallel-item::after {content: \"\";width: 100%;border-bottom: 1px solid gray;flex-grow: 1;}#sk-container-id-6 div.sk-label:hover label.sk-toggleable__label {background-color: #d4ebff;}#sk-container-id-6 div.sk-serial::before {content: \"\";position: absolute;border-left: 1px solid gray;box-sizing: border-box;top: 0;bottom: 0;left: 50%;z-index: 0;}#sk-container-id-6 div.sk-serial {display: flex;flex-direction: column;align-items: center;background-color: white;padding-right: 0.2em;padding-left: 0.2em;position: relative;}#sk-container-id-6 div.sk-item {position: relative;z-index: 1;}#sk-container-id-6 div.sk-parallel {display: flex;align-items: stretch;justify-content: center;background-color: white;position: relative;}#sk-container-id-6 div.sk-item::before, #sk-container-id-6 div.sk-parallel-item::before {content: \"\";position: absolute;border-left: 1px solid gray;box-sizing: border-box;top: 0;bottom: 0;left: 50%;z-index: -1;}#sk-container-id-6 div.sk-parallel-item {display: flex;flex-direction: column;z-index: 1;position: relative;background-color: white;}#sk-container-id-6 div.sk-parallel-item:first-child::after {align-self: flex-end;width: 50%;}#sk-container-id-6 div.sk-parallel-item:last-child::after {align-self: flex-start;width: 50%;}#sk-container-id-6 div.sk-parallel-item:only-child::after {width: 0;}#sk-container-id-6 div.sk-dashed-wrapped {border: 1px dashed gray;margin: 0 0.4em 0.5em 0.4em;box-sizing: border-box;padding-bottom: 0.4em;background-color: white;}#sk-container-id-6 div.sk-label label {font-family: monospace;font-weight: bold;display: inline-block;line-height: 1.2em;}#sk-container-id-6 div.sk-label-container {text-align: center;}#sk-container-id-6 div.sk-container {/* jupyter's `normalize.less` sets `[hidden] { display: none; }` but bootstrap.min.css set `[hidden] { display: none !important; }` so we also need the `!important` here to be able to override the default hidden behavior on the sphinx rendered scikit-learn.org. See: https://github.com/scikit-learn/scikit-learn/issues/21755 */display: inline-block !important;position: relative;}#sk-container-id-6 div.sk-text-repr-fallback {display: none;}</style><div id=\"sk-container-id-6\" class=\"sk-top-container\"><div class=\"sk-text-repr-fallback\"><pre>NearestNeighbors(algorithm=&#x27;brute&#x27;, metric=&#x27;cosine&#x27;, n_neighbors=11)</pre><b>In a Jupyter environment, please rerun this cell to show the HTML representation or trust the notebook. <br />On GitHub, the HTML representation is unable to render, please try loading this page with nbviewer.org.</b></div><div class=\"sk-container\" hidden><div class=\"sk-item\"><div class=\"sk-estimator sk-toggleable\"><input class=\"sk-toggleable__control sk-hidden--visually\" id=\"sk-estimator-id-6\" type=\"checkbox\" checked><label for=\"sk-estimator-id-6\" class=\"sk-toggleable__label sk-toggleable__label-arrow\">NearestNeighbors</label><div class=\"sk-toggleable__content\"><pre>NearestNeighbors(algorithm=&#x27;brute&#x27;, metric=&#x27;cosine&#x27;, n_neighbors=11)</pre></div></div></div></div></div>"
      ],
      "text/plain": [
       "NearestNeighbors(algorithm='brute', metric='cosine', n_neighbors=11)"
      ]
     },
     "execution_count": 117,
     "metadata": {},
     "output_type": "execute_result"
    }
   ],
   "source": [
    "knn_model2 = NearestNeighbors(n_neighbors=11, metric=\"cosine\", algorithm=\"brute\")\n",
    "# cosine je lepší, protoe hledá podobnosti v ratingu\n",
    "knn_model2.fit(data_for_recommendation2)"
   ]
  },
  {
   "cell_type": "code",
   "execution_count": 118,
   "id": "b6be23d3-47ea-4b26-bd9a-66ee96328750",
   "metadata": {
    "tags": []
   },
   "outputs": [
    {
     "name": "stdin",
     "output_type": "stream",
     "text": [
      "Jakou knihu máš rád:  The Devil Will Drag You Under\n"
     ]
    },
    {
     "name": "stdout",
     "output_type": "stream",
     "text": [
      "\n",
      "Recommendations for 'The Devil Will Drag You Under':\n",
      "\n",
      "1: Sara'S Bounty, with distance of 0.0000\n",
      "2: Santa'S Holiday Treats: A Wilton Book Of Recipes &Amp; Ideas, with distance of 0.0000\n",
      "3: Santiago : A Myth Of The Far Future (Santiago), with distance of 0.0000\n",
      "4: Sapphire And Steel, with distance of 0.0000\n",
      "5: Santa'S Favorite Cookies: Cookie Cutter Set &Amp; Recipe Book (Cookie Cutters), with distance of 0.0000\n"
     ]
    }
   ],
   "source": [
    "def recommendations2(nazev_knihy, n_recommendations=6):\n",
    "    \n",
    "    user_hleda_podobnou = data_for_recommendation2[\n",
    "        data_for_recommendation2.index.str.strip().str.lower() == nazev_knihy.strip().lower()\n",
    "    ]\n",
    "   \n",
    "    \n",
    "    if user_hleda_podobnou.empty:\n",
    "        return print(f\"Knihu '{nazev_knihy}' jsem nenašla. Zkus v angličtině nebo zkontroluj název.\")\n",
    "\n",
    "    \n",
    "    query_index = data_for_recommendation2.index.get_loc(user_hleda_podobnou.index[0])\n",
    "    \n",
    "    \n",
    "    distances, indices = knn_model2.kneighbors(\n",
    "        data_for_recommendation2.iloc[query_index, :].values.reshape(1, -1),\n",
    "        n_neighbors=n_recommendations\n",
    "    )\n",
    "\n",
    "    \n",
    "    print(f\"\\nRecommendations for '{nazev_knihy}':\\n\")\n",
    "    for i in range(1, len(distances.flatten())):\n",
    "        print(f\"{i}: {data_for_recommendation2.index[indices.flatten()[i]]}, with distance of {distances.flatten()[i]:.4f}\")\n",
    "\n",
    "nazev_knihy2 = input(\"Jakou knihu máš rád: \")\n",
    "recommendations2(nazev_knihy2)\n",
    "\n",
    "# ťady jsem si to nechala vygenerovat chatem"
   ]
  },
  {
   "cell_type": "code",
   "execution_count": null,
   "id": "e482a6c7-f495-4af7-8221-87ea2df855a1",
   "metadata": {
    "tags": []
   },
   "outputs": [],
   "source": []
  },
  {
   "cell_type": "code",
   "execution_count": null,
   "id": "c9c5d84f-7217-4172-9383-560dd91cd370",
   "metadata": {},
   "outputs": [],
   "source": []
  }
 ],
 "metadata": {
  "kernelspec": {
   "display_name": "Python 3 (ipykernel)",
   "language": "python",
   "name": "python3"
  },
  "language_info": {
   "codemirror_mode": {
    "name": "ipython",
    "version": 3
   },
   "file_extension": ".py",
   "mimetype": "text/x-python",
   "name": "python",
   "nbconvert_exporter": "python",
   "pygments_lexer": "ipython3",
   "version": "3.11.5"
  }
 },
 "nbformat": 4,
 "nbformat_minor": 5
}
